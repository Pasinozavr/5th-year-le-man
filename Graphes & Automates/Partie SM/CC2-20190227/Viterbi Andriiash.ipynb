{
 "cells": [
  {
   "cell_type": "markdown",
   "metadata": {},
   "source": [
    "# Preparation\n",
    "\n",
    "At first, we load data and fill structures (arrays, dictionaries) and count records"
   ]
  },
  {
   "cell_type": "code",
   "execution_count": 1,
   "metadata": {},
   "outputs": [
    {
     "name": "stdout",
     "output_type": "stream",
     "text": [
      "Words added\n",
      "Tags added\n",
      "Total number of records = 840659\n"
     ]
    }
   ],
   "source": [
    "preDictWords, preDictTags  = {}, {}\n",
    "wordsArray, tagsArray = [], []\n",
    "counter = 0\n",
    "\n",
    "data = open(\"train.ester1.cut.bio\", \"r\")\n",
    "for record in data:\n",
    "    if (record != '\\n'):\n",
    "        field = record.split(' ')\n",
    "        field[1] = field[1][:-1]\n",
    "        counter += 1\n",
    "        \n",
    "        wordsArray.append(field[0])\n",
    "        tagsArray.append(field[1])\n",
    "        \n",
    "        if field[0] in preDictWords:\n",
    "            preDictWords[field[0]] += 1\n",
    "        else:\n",
    "            preDictWords[field[0]] = 1\n",
    "            \n",
    "        if field[1] in preDictTags:\n",
    "            preDictTags[field[1]] += 1\n",
    "        else:\n",
    "            preDictTags[field[1]] = 1\n",
    "            \n",
    "for word in preDictWords:\n",
    "    preDictWords[word] /= counter\n",
    "print(\"Words added\")\n",
    "\n",
    "for tag in preDictTags:\n",
    "    preDictTags[tag] /= counter\n",
    "print(\"Tags added\")\n",
    "\n",
    "N = len(wordsArray)\n",
    "print(\"Total number of records = \" + str(N))"
   ]
  },
  {
   "cell_type": "markdown",
   "metadata": {},
   "source": [
    "# \"Matrixes\"\n",
    "Then we create dictionaries of emission and transition (instead of matrixes, because it looks prettier and mpre interesting to work with)\n",
    "\n",
    " \n"
   ]
  },
  {
   "cell_type": "code",
   "execution_count": 2,
   "metadata": {},
   "outputs": [
    {
     "name": "stdout",
     "output_type": "stream",
     "text": [
      "matrixE dictionary created\n",
      "matrixT dictionary created\n",
      "matrixE dictionary filled\n",
      "matrixT dictionary filled\n",
      "matrixE for word 'vingt' = [0.32694710537276134, 0.001665972511453561, 0.007496876301541024, 0.16826322365680965, 0.248646397334444, 0.0, 0.0, 0.0, 0.0, 0.0, 0.024156601416076635, 0.15951686797167847, 0.059558517284464804, 0.0, 0.003748438150770512]\n",
      "Transtions for tag 'I-time' = [0.4241329479768786, 0.008360858794384807, 0.0, 0.013728323699421965, 0.5298307184145334, 0.00041288191577208916, 0.0, 0.019611890999174236, 0.0, 0.002064409578860446, 0.0, 0.0012386457473162675, 0.0, 0.0006193228736581337, 0.0]\n"
     ]
    }
   ],
   "source": [
    "matrixE, matrixT = {}, {}\n",
    "for i in list(preDictWords.keys()):\n",
    "    matrixE[i]=[0.,0.,0.,0.,0.,0.,0.,0.,0.,0.,0.,0.,0.,0.,0.]\n",
    "print(\"matrixE dictionary created\")\n",
    "\n",
    "tagsList = list(preDictTags.keys())\n",
    "for i in tagsList:\n",
    "    matrixT[i]=[0.,0.,0.,0.,0.,0.,0.,0.,0.,0.,0.,0.,0.,0.,0.]\n",
    "print(\"matrixT dictionary created\")\n",
    "      \n",
    "for j in range(N):\n",
    "    matrixE[wordsArray[j]][tagsList.index(tagsArray[j])] += 1\n",
    "print(\"matrixE dictionary filled\")\n",
    "      \n",
    "for i in preDictWords.keys():\n",
    "    sum = 0.\n",
    "    for n in range(0,15):\n",
    "        sum = sum + matrixE[i][n]\n",
    "    for n in range(0,15):\n",
    "        if sum != 0:\n",
    "            matrixE[i][n] /= sum\n",
    "                       \n",
    "for i in range(0, N-1):\n",
    "    matrixT[tagsArray[i]][tagsList.index(tagsArray[i+1])] +=1 \n",
    "print(\"matrixT dictionary filled\")\n",
    "        \n",
    "for i in preDictTags.keys():\n",
    "    sum = 0.\n",
    "    for n in range(0,15):\n",
    "        sum = sum + matrixT[i][n]\n",
    "    for n in range(0,15):\n",
    "        if sum != 0:\n",
    "            matrixT[i][n] /= sum\n",
    "            \n",
    "print(\"matrixE for word 'vingt' = \" + str(matrixE[\"vingt\"]))\n",
    "print(\"Transtions for tag 'I-time' = \" + str(matrixT[\"I-time\"]))"
   ]
  },
  {
   "cell_type": "markdown",
   "metadata": {},
   "source": [
    "# Algorithm\n",
    "Next if definition of Viterbi algorithm function\n",
    "1. Find 1st word the most probably tag\n",
    "2. Find probabilities come frome 1st step tag to each another\n",
    "3. Multiple that by probability of next tag for next word\n",
    "4. Choose max of probabilities and replace it with 1st step tag\n",
    "5, Come to 2"
   ]
  },
  {
   "cell_type": "code",
   "execution_count": 3,
   "metadata": {},
   "outputs": [],
   "source": [
    "def viterbi():\n",
    "    print(\" -- Algorithm work started -- \")\n",
    "    p, ind, answer = [], [], []\n",
    "    pChosen, indChosen, wordsMinus = -1, -1, 0\n",
    "    skippedLastWord = False\n",
    "    for word in range(N - 1):\n",
    "        if not wordsArray[word] in matrixE:\n",
    "            wordsMinus += 1\n",
    "            continue\n",
    "        wordE = matrixE[wordsArray[word]]\n",
    "        wordEMax = 0\n",
    "        tag = \"\"\n",
    "\n",
    "        if pChosen == -384761294194:\n",
    "            wordEMax = max(wordE)\n",
    "            tag = tagsList[wordE.index(wordEMax)]\n",
    "        else:\n",
    "            wordEMax = pChosen\n",
    "            tag = tagsList[indChosen]\n",
    "\n",
    "        for ind2 in range(15):\n",
    "            p1 = wordEMax * matrixT[tag][ind2]\n",
    "            \n",
    "            if not wordsArray[word + 1] in matrixE:\n",
    "                skippedLastWord = True\n",
    "                continue\n",
    "            p2 = p1 * matrixE[wordsArray[word + 1]][ind2]\n",
    "            p.append(p2)\n",
    "            ind.append(ind2)\n",
    "        if skippedLastWord:\n",
    "            skippedLastWord = False\n",
    "            answer.append('~~~')\n",
    "        else:\n",
    "            pChosen = max(p)\n",
    "            indChosen = ind[p.index(pChosen)]\n",
    "            p = []\n",
    "            ind = []\n",
    "            answer.append(tagsList[indChosen])\n",
    "    errors = 0\n",
    "    for i in range(len(answer)):\n",
    "           if answer[i] != tagsArray[i]:\n",
    "                errors += 1\n",
    "    print(\"Errors: \" + str(errors / N))\n",
    "    print(\"Skipped: \" + str(wordsMinus / N))\n",
    "    print(\" -- Algorithm work ended -- \")"
   ]
  },
  {
   "cell_type": "markdown",
   "metadata": {},
   "source": [
    "# Applying\n",
    "Using"
   ]
  },
  {
   "cell_type": "code",
   "execution_count": 4,
   "metadata": {},
   "outputs": [
    {
     "name": "stdout",
     "output_type": "stream",
     "text": [
      " -- Algorithm work started -- \n",
      "Errors: 0.12676483568248242\n",
      "Skipped: 0.0\n",
      " -- Algorithm work ended -- \n",
      " -- Algorithm work started -- \n",
      "Errors: 0.1383687076146329\n",
      "Skipped: 0.033222211471646335\n",
      " -- Algorithm work ended -- \n"
     ]
    }
   ],
   "source": [
    "viterbi()\n",
    "\n",
    "wordsArray = []\n",
    "tagsArray = []\n",
    "\n",
    "f = open(\"test.ester1.cut.bio\", \"r\")\n",
    "for x in f:\n",
    "    if (x != '\\n'):\n",
    "        curStr = x.split(' ')\n",
    "        curStr[1] = curStr[1][:-1]\n",
    "        \n",
    "        wordsArray.append(curStr[0])\n",
    "        tagsArray.append(curStr[1])\n",
    "\n",
    "N = len(wordsArray)\n",
    "\n",
    "viterbi()"
   ]
  },
  {
   "cell_type": "code",
   "execution_count": null,
   "metadata": {},
   "outputs": [],
   "source": []
  }
 ],
 "metadata": {
  "kernelspec": {
   "display_name": "Python 3",
   "language": "python",
   "name": "python3"
  },
  "language_info": {
   "codemirror_mode": {
    "name": "ipython",
    "version": 3
   },
   "file_extension": ".py",
   "mimetype": "text/x-python",
   "name": "python",
   "nbconvert_exporter": "python",
   "pygments_lexer": "ipython3",
   "version": "3.6.7"
  }
 },
 "nbformat": 4,
 "nbformat_minor": 2
}
