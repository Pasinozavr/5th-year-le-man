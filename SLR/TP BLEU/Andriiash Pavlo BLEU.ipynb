{
 "cells": [
  {
   "cell_type": "markdown",
   "metadata": {},
   "source": [
    "# Preparation\n",
    "At first, we need to dowload data, remove all extra symbols (except literas) and calculate lenghts of reference text and MT (candidate) text"
   ]
  },
  {
   "cell_type": "code",
   "execution_count": 1,
   "metadata": {},
   "outputs": [],
   "source": [
    "import string\n",
    "import math\n",
    "\n",
    "humanTranslate = ' '.join(open(\"fr.txt\", \"r\").read().translate(str.maketrans('', '', string.punctuation)).split('\\n')).lower()\n",
    "humanTranslateLen = len(humanTranslate.split(' '))\n",
    "\n",
    "machineTranslate = ' '.join(open(\"tr.txt\", \"r\").read().translate(str.maketrans('', '', string.punctuation)).split('\\n')).lower()\n",
    "machineTranslateLen = len(machineTranslate.split(' '))"
   ]
  },
  {
   "cell_type": "markdown",
   "metadata": {},
   "source": [
    "# Creating N-gramms\n",
    "Next function transfers text from its origin format to n-gramms (array of arrays)"
   ]
  },
  {
   "cell_type": "code",
   "execution_count": 2,
   "metadata": {},
   "outputs": [],
   "source": [
    "def textToNGram(n, text):\n",
    "    nGramms = []\n",
    "    splittedText = text.split(' ')\n",
    "    for i in range(len(splittedText) - n + 1):\n",
    "        temp = []\n",
    "        for j in range(n):\n",
    "            temp.append(splittedText[i])\n",
    "            i = i + 1\n",
    "        nGramms.append(temp)\n",
    "    return nGramms"
   ]
  },
  {
   "cell_type": "markdown",
   "metadata": {},
   "source": [
    "# Collating N-gramms\n",
    "Next function is main here. It takes number N (of gramms), creating two arrays with those N-gramms : for reference and MT texts and then match second with both of them. And, at the end, calculating percent of countings"
   ]
  },
  {
   "cell_type": "code",
   "execution_count": 3,
   "metadata": {},
   "outputs": [],
   "source": [
    "def collateNGram(n):\n",
    "    refGrams = textToNGram(n, humanTranslate)\n",
    "    candGrams = textToNGram(n, machineTranslate)\n",
    "    counterDenominator, counterNumerator = 0, 0\n",
    "    existed = []\n",
    "    \n",
    "    for gram in candGrams:\n",
    "        if not gram in existed:\n",
    "            counterDenominator = counterDenominator + candGrams.count(gram)\n",
    "            counterNumerator = counterNumerator + refGrams.count(gram)\n",
    "            existed.append(gram)\n",
    "            \n",
    "    return counterNumerator/counterDenominator"
   ]
  },
  {
   "cell_type": "markdown",
   "metadata": {},
   "source": [
    "# Brevity Penalty calculation"
   ]
  },
  {
   "cell_type": "code",
   "execution_count": 4,
   "metadata": {},
   "outputs": [],
   "source": [
    "def Penalty():\n",
    "    if machineTranslateLen > humanTranslateLen:\n",
    "        return 1\n",
    "    else:\n",
    "        return math.exp( 1 - humanTranslateLen / machineTranslateLen)"
   ]
  },
  {
   "cell_type": "markdown",
   "metadata": {},
   "source": [
    "# Exactly BLEU calculation function\n",
    "Next function combines collating N-gramms (that include text->N-gramm function) with penalty and shows result"
   ]
  },
  {
   "cell_type": "code",
   "execution_count": 5,
   "metadata": {},
   "outputs": [],
   "source": [
    "def BLEU(n):\n",
    "    weight = 1 / n\n",
    "    result = 0\n",
    "    for i in range(n):\n",
    "        result = result + math.log10(collateNGram(i + 1)) * weight \n",
    "    return Penalty() * math.exp ( result )"
   ]
  },
  {
   "cell_type": "code",
   "execution_count": 6,
   "metadata": {},
   "outputs": [
    {
     "name": "stdout",
     "output_type": "stream",
     "text": [
      "For text from Harry Potter BLEU score = 0.4204883145902022\n"
     ]
    }
   ],
   "source": [
    "print(\"For text from Harry Potter BLEU score = \" + str(BLEU(4)))"
   ]
  },
  {
   "cell_type": "markdown",
   "metadata": {},
   "source": [
    "# Results\n",
    "This stuff is one of many that seemed like magic for me before.\n",
    "And now I know how to evaluate it.\n",
    "This is amazing."
   ]
  },
  {
   "cell_type": "code",
   "execution_count": null,
   "metadata": {},
   "outputs": [],
   "source": []
  }
 ],
 "metadata": {
  "kernelspec": {
   "display_name": "Python 3",
   "language": "python",
   "name": "python3"
  },
  "language_info": {
   "codemirror_mode": {
    "name": "ipython",
    "version": 3
   },
   "file_extension": ".py",
   "mimetype": "text/x-python",
   "name": "python",
   "nbconvert_exporter": "python",
   "pygments_lexer": "ipython3",
   "version": "3.7.1"
  }
 },
 "nbformat": 4,
 "nbformat_minor": 2
}
